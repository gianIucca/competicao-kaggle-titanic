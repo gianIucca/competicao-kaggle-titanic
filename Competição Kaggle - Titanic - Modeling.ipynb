{
 "cells": [
  {
   "cell_type": "markdown",
   "id": "9e5136fb",
   "metadata": {},
   "source": [
    "# Esse notebook é uma continuação do Competição Kaggle - Titanic - Data Understanding"
   ]
  },
  {
   "cell_type": "markdown",
   "id": "597d00e4",
   "metadata": {},
   "source": [
    "## Dentro desse segundo caderno, vamos começar a desenvolver o modelo de machine learning e criar o dataframe para submissão do desafio"
   ]
  },
  {
   "cell_type": "code",
   "execution_count": 1,
   "id": "2e9c99be",
   "metadata": {},
   "outputs": [],
   "source": [
    "#Criação e manipulação dos dataframes\n",
    "import pandas as pd \n",
    "\n",
    "#Operações matemáticas\n",
    "import numpy as np \n",
    "\n",
    "#Técnica de dimensionalidade \n",
    "from sklearn.decomposition import PCA\n",
    "\n",
    "#Biblioteca de normalização\n",
    "from sklearn.preprocessing import StandardScaler, RobustScaler\n",
    "\n",
    "#Biblioteca de clusterização\n",
    "from sklearn.cluster import KMeans, MeanShift\n",
    "\n",
    "#Separar os dataframes em treino e teste\n",
    "from sklearn.model_selection import train_test_split"
   ]
  },
  {
   "cell_type": "code",
   "execution_count": 2,
   "id": "fc2ce385",
   "metadata": {},
   "outputs": [],
   "source": [
    "df_train = pd.read_csv('Data/train.csv')\n",
    "df_test = pd.read_csv('Data/test.csv')\n",
    "\n",
    "#Criando uma lista com os dataframes para simplificar fazer as mesmas ações em ambos \n",
    "datasets = [df_train, df_test]"
   ]
  },
  {
   "cell_type": "code",
   "execution_count": null,
   "id": "aab07380",
   "metadata": {},
   "outputs": [],
   "source": []
  }
 ],
 "metadata": {
  "kernelspec": {
   "display_name": "Python 3",
   "language": "python",
   "name": "python3"
  },
  "language_info": {
   "codemirror_mode": {
    "name": "ipython",
    "version": 3
   },
   "file_extension": ".py",
   "mimetype": "text/x-python",
   "name": "python",
   "nbconvert_exporter": "python",
   "pygments_lexer": "ipython3",
   "version": "3.8.8"
  }
 },
 "nbformat": 4,
 "nbformat_minor": 5
}
