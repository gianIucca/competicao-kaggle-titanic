{
 "cells": [
  {
   "cell_type": "markdown",
   "id": "20b5e70a",
   "metadata": {},
   "source": [
    "# Esse notebook é uma continuação do Competição Kaggle - Titanic - Data Understanding"
   ]
  },
  {
   "cell_type": "markdown",
   "id": "8d93361e",
   "metadata": {},
   "source": [
    "## Dentro desse segundo caderno, vamos começar a desenvolver o modelo de machine learning e criar o dataframe para submissão do desafio"
   ]
  },
  {
   "cell_type": "code",
   "execution_count": 1,
   "id": "6cf3b072",
   "metadata": {},
   "outputs": [
    {
     "ename": "ModuleNotFoundError",
     "evalue": "No module named 'autosklearn'",
     "output_type": "error",
     "traceback": [
      "\u001b[1;31m---------------------------------------------------------------------------\u001b[0m",
      "\u001b[1;31mModuleNotFoundError\u001b[0m                       Traceback (most recent call last)",
      "\u001b[1;32m<ipython-input-1-d53065ec82ac>\u001b[0m in \u001b[0;36m<module>\u001b[1;34m\u001b[0m\n\u001b[0;32m     28\u001b[0m \u001b[1;33m\u001b[0m\u001b[0m\n\u001b[0;32m     29\u001b[0m \u001b[1;31m#Biblioteca de AUTOML do sklearn\u001b[0m\u001b[1;33m\u001b[0m\u001b[1;33m\u001b[0m\u001b[1;33m\u001b[0m\u001b[0m\n\u001b[1;32m---> 30\u001b[1;33m \u001b[1;32mfrom\u001b[0m \u001b[0mautosklearn\u001b[0m\u001b[1;33m.\u001b[0m\u001b[0mclassification\u001b[0m \u001b[1;32mimport\u001b[0m \u001b[0mAutoSklearnClassifier\u001b[0m\u001b[1;33m\u001b[0m\u001b[1;33m\u001b[0m\u001b[0m\n\u001b[0m",
      "\u001b[1;31mModuleNotFoundError\u001b[0m: No module named 'autosklearn'"
     ]
    }
   ],
   "source": [
    "#Criação e manipulação dos dataframes\n",
    "import pandas as pd \n",
    "\n",
    "#Operações matemáticas\n",
    "import numpy as np \n",
    "\n",
    "#Biblioteca de normalização\n",
    "from sklearn.preprocessing import StandardScaler, RobustScaler\n",
    "\n",
    "#Classificadores\n",
    "from sklearn.neural_network import MLPClassifier\n",
    "from xgboost import XGBClassifier\n",
    "from sklearn.ensemble import BaggingClassifier, RandomForestClassifier, ExtraTreesClassifier\n",
    "from catboost import CatBoostClassifier\n",
    "from sklearn.linear_model import Perceptron, SGDClassifier, LogisticRegression\n",
    "from sklearn.svm import SVC, LinearSVC\n",
    "from sklearn.tree import DecisionTreeClassifier\n",
    "from sklearn.naive_bayes import GaussianNB\n",
    "\n",
    "#Separar os dataframes em treino e teste\n",
    "from sklearn.model_selection import train_test_split, GridSearchCV, RandomizedSearchCV\n",
    "\n",
    "#Métricas de qualidade do modelo \n",
    "from sklearn.metrics import accuracy_score\n",
    "\n",
    "#Verificar o run time dos modelos\n",
    "from time import time\n",
    "\n",
    "#Biblioteca de AUTOML do sklearn \n",
    "from autosklearn.classification import AutoSklearnClassifier"
   ]
  },
  {
   "cell_type": "markdown",
   "id": "57611726",
   "metadata": {},
   "source": [
    "## Importando os dados e realizando o tratamento deles"
   ]
  },
  {
   "cell_type": "code",
   "execution_count": null,
   "id": "020a3e47",
   "metadata": {},
   "outputs": [],
   "source": [
    "df_train = pd.read_csv('Data/train.csv')\n",
    "df_test = pd.read_csv('Data/test.csv')\n",
    "\n",
    "def limpar_dataframe(df):\n",
    "    #Criando a nova coluna somando os irmãos/conjugues e pais/filhos\n",
    "    df['Tamanho_Familia'] = df['SibSp'] + df['Parch']\n",
    "    \n",
    "    #Criando uma nova coluna para verificar quem estava sozinho\n",
    "    df['Sozinho'] = df['Tamanho_Familia'].apply(lambda x: 1 if x == 0 else 0)\n",
    "    \n",
    "    #Completando os valores de embarque com a moda da coluna\n",
    "    df['Embarked'].fillna(df['Embarked'].mode()[0], inplace=True)\n",
    "    \n",
    "    #Completando os valores de idade e preço com a mediana da coluna\n",
    "    df['Age'].fillna(df['Age'].median(), inplace=True)\n",
    "    df['Fare'].fillna(df['Fare'].median(), inplace=True)\n",
    "    \n",
    "    #Pegando apenas a letra da cabine\n",
    "    df['Letra_Cabine'] = df['Cabin'].str[:1]\n",
    "    \n",
    "    #Criando uma coluna com apenas o titulo da pessoa\n",
    "    df['Titulo'] = df['Name'].str.split(', ', expand=True)[1].str.split('.', expand=True)[0]\n",
    "    #Pegando os titulos mais comuns e retirando o resto\n",
    "    titulos = df['Titulo'].value_counts(ascending=False)[:4]\n",
    "    #Deixando os titulos com poucos valores como Misc\n",
    "    df['Titulo'] = df['Titulo'].apply(lambda x: x if x in titulos else 'Misc')\n",
    "    \n",
    "    #Transformando as colunas categóricas em numéricas\n",
    "    #df = pd.get_dummies(df, columns=['Sex', 'Embarked', 'Letra_Cabine', 'Titulo'])\n",
    "    \n",
    "    #Removendo as colunas que não serão necessárias\n",
    "    df.drop(columns=['PassengerId', 'Cabin', 'Name', 'Ticket'], inplace=True)\n",
    "    \n",
    "limpar_dataframe(df_train)\n",
    "limpar_dataframe(df_test)\n",
    "\n",
    "df_train = pd.get_dummies(df_train, columns=['Titulo', 'Embarked', 'Sex', 'Letra_Cabine'])\n",
    "df_test = pd.get_dummies(df_test, columns=['Titulo', 'Embarked', 'Sex', 'Letra_Cabine'])"
   ]
  },
  {
   "cell_type": "markdown",
   "id": "260b9264",
   "metadata": {},
   "source": [
    "## Separando em treino/teste"
   ]
  },
  {
   "cell_type": "code",
   "execution_count": null,
   "id": "9c191d6a",
   "metadata": {},
   "outputs": [],
   "source": [
    "X = df_train.drop(columns=['Survived'])\n",
    "y = df_train['Survived']\n",
    "\n",
    "X_train, X_test, y_train, y_test = train_test_split(X, y, test_size=0.20, random_state=42)\n",
    "X_test, X_validation, y_test, y_validation = train_test_split(X_test, y_test, test_size=0.50, random_state=42)\n",
    "\n",
    "print(X_train.shape)\n",
    "print(y_train.shape)\n",
    "print(X_test.shape)\n",
    "print(y_test.shape)\n",
    "print(X_validation.shape)\n",
    "print(y_validation.shape)"
   ]
  },
  {
   "cell_type": "markdown",
   "id": "f025f6fd",
   "metadata": {},
   "source": [
    "## Testando os diferentes classificadores"
   ]
  },
  {
   "cell_type": "code",
   "execution_count": null,
   "id": "423061f2",
   "metadata": {},
   "outputs": [],
   "source": [
    "models = [\n",
    "    RandomForestClassifier(),\n",
    "    BaggingClassifier(),\n",
    "    ExtraTreesClassifier(),\n",
    "    Perceptron(),\n",
    "    MLPClassifier(),\n",
    "    SVC(),\n",
    "    GaussianNB(),\n",
    "    DecisionTreeClassifier(),\n",
    "    XGBClassifier(),\n",
    "    CatBoostClassifier(verbose=0),\n",
    "    SGDClassifier(),\n",
    "    LinearSVC(),\n",
    "    LogisticRegression(),\n",
    "    \n",
    "    \n",
    "]\n",
    "\n",
    "accuracy = []\n",
    "name = []\n",
    "parameters = []\n",
    "tempo = []\n",
    "\n",
    "for model in models:\n",
    "    \n",
    "    tempo_inicial = time()\n",
    "    \n",
    "    clf = model.fit(X_train, y_train)\n",
    "    y_pred = clf.predict(X_test)\n",
    "    \n",
    "    accuracy.append(accuracy_score(y_test, y_pred))\n",
    "    name.append(model.__class__.__name__)\n",
    "    parameters.append(model.get_params())\n",
    "    \n",
    "    tempo_final = time() - tempo_inicial\n",
    "    tempo.append(tempo_final)\n",
    "    \n",
    "resultado = pd.DataFrame({'Nome': name,\n",
    "                         'Accuracy': accuracy,\n",
    "                         'Run Time': tempo,\n",
    "                         'Parameters': parameters})\n",
    "\n",
    "resultado.sort_values(by='Accuracy', ascending=False)"
   ]
  },
  {
   "cell_type": "markdown",
   "id": "4dc03989",
   "metadata": {},
   "source": [
    "## Realizando o tuning dos hiperparâmetros do Random Forest Classifier"
   ]
  },
  {
   "cell_type": "code",
   "execution_count": null,
   "id": "7c4ecb3e",
   "metadata": {
    "scrolled": true
   },
   "outputs": [],
   "source": [
    "parameters = {\n",
    "    'n_estimators': np.arange(100,2000,100),\n",
    "    'max_features': ['sqrt', 'log2'],\n",
    "    'max_depth': np.arange(2,20),\n",
    "    'bootstrap': [True, False],\n",
    "    'min_samples_leaf': [1,2,4],\n",
    "    'min_samples_split': [2,5,10]\n",
    "}\n",
    "\n",
    "classifier = GridSearchCV(RandomForestClassifier(), parameters, n_jobs=-1, verbose=1)\n",
    "classifier.fit(X_train, y_train)\n",
    "\n",
    "y_pred = classifier.predict(X_test)\n",
    "print(accuracy_score(y_test, y_pred))\n",
    "print(classifier.best_params_)"
   ]
  },
  {
   "cell_type": "code",
   "execution_count": null,
   "id": "64af0374",
   "metadata": {},
   "outputs": [],
   "source": [
    "parameters = {\n",
    "    'n_estimators': np.arange(100,2000,100),\n",
    "    'max_features': ['sqrt', 'log2'],\n",
    "    'max_depth': np.arange(2,20),\n",
    "    'bootstrap': [True, False],\n",
    "    'min_samples_leaf': [1,2,4],\n",
    "    'min_samples_split': [2,5,10]\n",
    "    \n",
    "}\n",
    "\n",
    "classifier = RandomizedSearchCV(RandomForestClassifier(), parameters, n_iter=100,\n",
    "                               verbose=2, n_jobs=-1, random_state=42)\n",
    "\n",
    "classifier.fit(X_train, y_train)\n",
    "y_pred = classifier.predict(X_test)\n",
    "print(accuracy_score(y_test, y_pred))\n",
    "print(classifier.best_params_)"
   ]
  },
  {
   "cell_type": "markdown",
   "id": "d99394d5",
   "metadata": {},
   "source": [
    "## Tuning dos hiperparâmetros do CatBoost Classifier"
   ]
  },
  {
   "cell_type": "markdown",
   "id": "b543e26d",
   "metadata": {},
   "source": [
    "#### Dicionário de cada valor ajustado pelo GridSearchCV \n",
    "\n",
    "iterations: número máximo de árvores que podem ser construídas <br>\n",
    "learning_rate: velocidade que os pesos do modelo são atualizados após trabalhar em cada batch de amostras de treino [0.0 - 1.0] <br>\n",
    "depth: profundidade da árvore, na maior parte dos casos, um bom valor está entre [1-10] <br>\n",
    "\n"
   ]
  },
  {
   "cell_type": "code",
   "execution_count": null,
   "id": "d76f3ebf",
   "metadata": {},
   "outputs": [],
   "source": [
    "%%timeit\n",
    "parameters = {'iterations': [300,500,1000],\n",
    "             'learning_rate': [0.01,0.02],\n",
    "             'depth': [6,7,9,10],\n",
    "             'l2_leaf_reg': [1,3,5,7,9,10]}\n",
    "\n",
    "classifier = GridSearchCV(CatBoostClassifier(verbose=0), parameters, n_jobs=-1, verbose=2)\n",
    "classifier.fit(X_train, y_train, eval_set=(X_validation, y_validation), use_best_model=True)\n",
    "y_pred = classifier.predict(X_test)\n",
    "\n",
    "print(accuracy_score(y_test, y_pred))"
   ]
  },
  {
   "cell_type": "code",
   "execution_count": null,
   "id": "79d4e42a",
   "metadata": {},
   "outputs": [],
   "source": [
    "classifier.best_params_"
   ]
  },
  {
   "cell_type": "code",
   "execution_count": null,
   "id": "cdedee55",
   "metadata": {},
   "outputs": [],
   "source": [
    "classifier = CatBoostClassifier(random_strength=1, verbose=0)"
   ]
  },
  {
   "cell_type": "markdown",
   "id": "1fbb2e4a",
   "metadata": {},
   "source": [
    "## Utilizando o auto-sklearn para testar diferentes modelos "
   ]
  },
  {
   "cell_type": "code",
   "execution_count": null,
   "id": "001716a4",
   "metadata": {},
   "outputs": [],
   "source": []
  }
 ],
 "metadata": {
  "kernelspec": {
   "display_name": "Python 3",
   "language": "python",
   "name": "python3"
  },
  "language_info": {
   "codemirror_mode": {
    "name": "ipython",
    "version": 3
   },
   "file_extension": ".py",
   "mimetype": "text/x-python",
   "name": "python",
   "nbconvert_exporter": "python",
   "pygments_lexer": "ipython3",
   "version": "3.8.8"
  }
 },
 "nbformat": 4,
 "nbformat_minor": 5
}
